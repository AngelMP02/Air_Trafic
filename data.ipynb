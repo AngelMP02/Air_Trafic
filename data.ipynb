{
 "cells": [
  {
   "attachments": {},
   "cell_type": "markdown",
   "metadata": {},
   "source": [
    "Leemos y filtramos el dataset"
   ]
  },
  {
   "cell_type": "code",
   "execution_count": 57,
   "metadata": {},
   "outputs": [],
   "source": [
    "\n",
    "import dask.dataframe as dd\n",
    "import numpy as np\n",
    "import seaborn as sns"
   ]
  },
  {
   "cell_type": "code",
   "execution_count": 58,
   "metadata": {},
   "outputs": [
    {
     "data": {
      "text/plain": [
       "['c:\\\\Users\\\\Angel Martínez\\\\Documents\\\\GitHub\\\\Air_Trafic\\\\archivo_sin_duplicados.csv\\\\0.part']"
      ]
     },
     "execution_count": 58,
     "metadata": {},
     "output_type": "execute_result"
    }
   ],
   "source": [
    "\n",
    "\n",
    "# Cargar el conjunto de datos en un dataframe de Dask\n",
    "df = dd.read_csv('air_traffic_data.csv')\n",
    "\n",
    "# Eliminar registros duplicados\n",
    "df_air_filt = df.drop_duplicates()\n",
    "\n",
    "# Filtrar filas con valores faltantes en columnas específicas\n",
    "\n",
    "# Volcar los resultados en un archivo CSV\n",
    "df_air_filt.to_csv('archivo_sin_duplicados.csv', index=False)\n"
   ]
  },
  {
   "attachments": {},
   "cell_type": "markdown",
   "metadata": {},
   "source": []
  },
  {
   "cell_type": "code",
   "execution_count": 59,
   "metadata": {},
   "outputs": [
    {
     "data": {
      "text/html": [
       "<div>\n",
       "<style scoped>\n",
       "    .dataframe tbody tr th:only-of-type {\n",
       "        vertical-align: middle;\n",
       "    }\n",
       "\n",
       "    .dataframe tbody tr th {\n",
       "        vertical-align: top;\n",
       "    }\n",
       "\n",
       "    .dataframe thead th {\n",
       "        text-align: right;\n",
       "    }\n",
       "</style>\n",
       "<table border=\"1\" class=\"dataframe\">\n",
       "  <thead>\n",
       "    <tr style=\"text-align: right;\">\n",
       "      <th></th>\n",
       "      <th>Activity Period</th>\n",
       "      <th>Operating Airline</th>\n",
       "      <th>Operating Airline IATA Code</th>\n",
       "      <th>Published Airline</th>\n",
       "      <th>Published Airline IATA Code</th>\n",
       "      <th>GEO Summary</th>\n",
       "      <th>GEO Region</th>\n",
       "      <th>Activity Type Code</th>\n",
       "      <th>Price Category Code</th>\n",
       "      <th>Terminal</th>\n",
       "      <th>Boarding Area</th>\n",
       "      <th>Passenger Count</th>\n",
       "      <th>Adjusted Activity Type Code</th>\n",
       "      <th>Adjusted Passenger Count</th>\n",
       "      <th>Year</th>\n",
       "      <th>Month</th>\n",
       "    </tr>\n",
       "  </thead>\n",
       "  <tbody>\n",
       "    <tr>\n",
       "      <th>0</th>\n",
       "      <td>200507</td>\n",
       "      <td>ATA Airlines</td>\n",
       "      <td>TZ</td>\n",
       "      <td>ATA Airlines</td>\n",
       "      <td>TZ</td>\n",
       "      <td>Domestic</td>\n",
       "      <td>US</td>\n",
       "      <td>Deplaned</td>\n",
       "      <td>Low Fare</td>\n",
       "      <td>Terminal 1</td>\n",
       "      <td>B</td>\n",
       "      <td>27271</td>\n",
       "      <td>Deplaned</td>\n",
       "      <td>27271</td>\n",
       "      <td>2005</td>\n",
       "      <td>July</td>\n",
       "    </tr>\n",
       "    <tr>\n",
       "      <th>1</th>\n",
       "      <td>200507</td>\n",
       "      <td>ATA Airlines</td>\n",
       "      <td>TZ</td>\n",
       "      <td>ATA Airlines</td>\n",
       "      <td>TZ</td>\n",
       "      <td>Domestic</td>\n",
       "      <td>US</td>\n",
       "      <td>Enplaned</td>\n",
       "      <td>Low Fare</td>\n",
       "      <td>Terminal 1</td>\n",
       "      <td>B</td>\n",
       "      <td>29131</td>\n",
       "      <td>Enplaned</td>\n",
       "      <td>29131</td>\n",
       "      <td>2005</td>\n",
       "      <td>July</td>\n",
       "    </tr>\n",
       "    <tr>\n",
       "      <th>2</th>\n",
       "      <td>200507</td>\n",
       "      <td>ATA Airlines</td>\n",
       "      <td>TZ</td>\n",
       "      <td>ATA Airlines</td>\n",
       "      <td>TZ</td>\n",
       "      <td>Domestic</td>\n",
       "      <td>US</td>\n",
       "      <td>Thru / Transit</td>\n",
       "      <td>Low Fare</td>\n",
       "      <td>Terminal 1</td>\n",
       "      <td>B</td>\n",
       "      <td>5415</td>\n",
       "      <td>Thru / Transit * 2</td>\n",
       "      <td>10830</td>\n",
       "      <td>2005</td>\n",
       "      <td>July</td>\n",
       "    </tr>\n",
       "    <tr>\n",
       "      <th>3</th>\n",
       "      <td>200507</td>\n",
       "      <td>Air Canada</td>\n",
       "      <td>AC</td>\n",
       "      <td>Air Canada</td>\n",
       "      <td>AC</td>\n",
       "      <td>International</td>\n",
       "      <td>Canada</td>\n",
       "      <td>Deplaned</td>\n",
       "      <td>Other</td>\n",
       "      <td>Terminal 1</td>\n",
       "      <td>B</td>\n",
       "      <td>35156</td>\n",
       "      <td>Deplaned</td>\n",
       "      <td>35156</td>\n",
       "      <td>2005</td>\n",
       "      <td>July</td>\n",
       "    </tr>\n",
       "    <tr>\n",
       "      <th>4</th>\n",
       "      <td>200507</td>\n",
       "      <td>Air Canada</td>\n",
       "      <td>AC</td>\n",
       "      <td>Air Canada</td>\n",
       "      <td>AC</td>\n",
       "      <td>International</td>\n",
       "      <td>Canada</td>\n",
       "      <td>Enplaned</td>\n",
       "      <td>Other</td>\n",
       "      <td>Terminal 1</td>\n",
       "      <td>B</td>\n",
       "      <td>34090</td>\n",
       "      <td>Enplaned</td>\n",
       "      <td>34090</td>\n",
       "      <td>2005</td>\n",
       "      <td>July</td>\n",
       "    </tr>\n",
       "  </tbody>\n",
       "</table>\n",
       "</div>"
      ],
      "text/plain": [
       "   Activity Period Operating Airline Operating Airline IATA Code  \\\n",
       "0           200507      ATA Airlines                          TZ   \n",
       "1           200507      ATA Airlines                          TZ   \n",
       "2           200507      ATA Airlines                          TZ   \n",
       "3           200507       Air Canada                           AC   \n",
       "4           200507       Air Canada                           AC   \n",
       "\n",
       "  Published Airline Published Airline IATA Code    GEO Summary GEO Region  \\\n",
       "0      ATA Airlines                          TZ       Domestic         US   \n",
       "1      ATA Airlines                          TZ       Domestic         US   \n",
       "2      ATA Airlines                          TZ       Domestic         US   \n",
       "3       Air Canada                           AC  International     Canada   \n",
       "4       Air Canada                           AC  International     Canada   \n",
       "\n",
       "  Activity Type Code Price Category Code    Terminal Boarding Area  \\\n",
       "0           Deplaned            Low Fare  Terminal 1             B   \n",
       "1           Enplaned            Low Fare  Terminal 1             B   \n",
       "2     Thru / Transit            Low Fare  Terminal 1             B   \n",
       "3           Deplaned               Other  Terminal 1             B   \n",
       "4           Enplaned               Other  Terminal 1             B   \n",
       "\n",
       "   Passenger Count Adjusted Activity Type Code  Adjusted Passenger Count  \\\n",
       "0            27271                    Deplaned                     27271   \n",
       "1            29131                    Enplaned                     29131   \n",
       "2             5415          Thru / Transit * 2                     10830   \n",
       "3            35156                    Deplaned                     35156   \n",
       "4            34090                    Enplaned                     34090   \n",
       "\n",
       "   Year Month  \n",
       "0  2005  July  \n",
       "1  2005  July  \n",
       "2  2005  July  \n",
       "3  2005  July  \n",
       "4  2005  July  "
      ]
     },
     "execution_count": 59,
     "metadata": {},
     "output_type": "execute_result"
    }
   ],
   "source": [
    "df_air_filt.head()"
   ]
  },
  {
   "cell_type": "code",
   "execution_count": 60,
   "metadata": {},
   "outputs": [
    {
     "data": {
      "text/plain": [
       "Dask Series Structure:\n",
       "npartitions=1\n",
       "Activity Period    int64\n",
       "Year                 ...\n",
       "dtype: int64\n",
       "Dask Name: dataframe-sum-agg, 6 tasks"
      ]
     },
     "execution_count": 60,
     "metadata": {},
     "output_type": "execute_result"
    }
   ],
   "source": [
    "# Conteo de valores perdidos/faltantes  \n",
    "df_air_filt.isna().sum()"
   ]
  },
  {
   "cell_type": "code",
   "execution_count": 61,
   "metadata": {},
   "outputs": [
    {
     "name": "stdout",
     "output_type": "stream",
     "text": [
      "<class 'dask.dataframe.core.DataFrame'>\n",
      "Columns: 16 entries, Activity Period to Month\n",
      "dtypes: object(12), int64(4)"
     ]
    }
   ],
   "source": [
    "df_air_filt.info()"
   ]
  },
  {
   "cell_type": "code",
   "execution_count": 62,
   "metadata": {},
   "outputs": [
    {
     "data": {
      "text/plain": [
       "Activity Period                 int64\n",
       "Operating Airline              object\n",
       "Operating Airline IATA Code    object\n",
       "Published Airline              object\n",
       "Published Airline IATA Code    object\n",
       "GEO Summary                    object\n",
       "GEO Region                     object\n",
       "Activity Type Code             object\n",
       "Price Category Code            object\n",
       "Terminal                       object\n",
       "Boarding Area                  object\n",
       "Passenger Count                 int64\n",
       "Adjusted Activity Type Code    object\n",
       "Adjusted Passenger Count        int64\n",
       "Year                            int64\n",
       "Month                          object\n",
       "dtype: object"
      ]
     },
     "execution_count": 62,
     "metadata": {},
     "output_type": "execute_result"
    }
   ],
   "source": [
    "# Consultamos el tipo de datos\n",
    "df_air_filt.dtypes"
   ]
  },
  {
   "cell_type": "code",
   "execution_count": 63,
   "metadata": {},
   "outputs": [
    {
     "data": {
      "text/plain": [
       "Operating Airline              object\n",
       "Operating Airline IATA Code    object\n",
       "Published Airline              object\n",
       "Published Airline IATA Code    object\n",
       "GEO Summary                    object\n",
       "GEO Region                     object\n",
       "Activity Type Code             object\n",
       "Price Category Code            object\n",
       "Terminal                       object\n",
       "Boarding Area                  object\n",
       "Adjusted Activity Type Code    object\n",
       "Month                          object\n",
       "dtype: object"
      ]
     },
     "execution_count": 63,
     "metadata": {},
     "output_type": "execute_result"
    }
   ],
   "source": [
    "df_air_filt.dtypes[df_air_filt.dtypes=='object']"
   ]
  },
  {
   "cell_type": "code",
   "execution_count": 64,
   "metadata": {},
   "outputs": [],
   "source": [
    "columnas_drop= [\"Adjusted Passenger Count\",\n",
    "                \"GEO Summary\",\n",
    "               \n",
    "                \"Adjusted Activity Type Code\",\n",
    "                \"Operating Airline IATA Code\",\n",
    "                \"Operating Airline IATA Code\",\n",
    "                \"Published Airline IATA Code\",\n",
    "                \"Published Airline\"\n",
    "                ]"
   ]
  },
  {
   "cell_type": "code",
   "execution_count": 65,
   "metadata": {},
   "outputs": [],
   "source": [
    "df_air_filt= df_air_filt.drop(columns=columnas_drop)"
   ]
  },
  {
   "cell_type": "code",
   "execution_count": 66,
   "metadata": {},
   "outputs": [
    {
     "name": "stdout",
     "output_type": "stream",
     "text": [
      "0       Terminal 1\n",
      "1    International\n",
      "2       Terminal 3\n",
      "3            Other\n",
      "4       Terminal 2\n",
      "Name: Terminal, dtype: object\n"
     ]
    }
   ],
   "source": [
    "\n",
    "valores_unicos = df_air_filt['Terminal'].unique().compute()\n",
    "\n",
    "\n",
    "print(valores_unicos)"
   ]
  },
  {
   "cell_type": "code",
   "execution_count": 67,
   "metadata": {},
   "outputs": [
    {
     "name": "stdout",
     "output_type": "stream",
     "text": [
      "0    1.0\n",
      "1    1.0\n",
      "2    1.0\n",
      "3    1.0\n",
      "4    1.0\n",
      "Name: Terminal, dtype: float64\n"
     ]
    }
   ],
   "source": [
    "\n",
    "Terminal_numeros = {\n",
    "    'Terminal 1': 1,\n",
    "    'Terminal 2': 2,\n",
    "    'Terminal 3': 3,\n",
    "    'Internacional':4\n",
    "}\n",
    "\n",
    "\n",
    "df_air_filt[\"Terminal\"]=df_air_filt[\"Terminal\"].map(Terminal_numeros)\n",
    "print(df_air_filt[\"Terminal\"].head())\n"
   ]
  },
  {
   "cell_type": "code",
   "execution_count": 68,
   "metadata": {},
   "outputs": [
    {
     "data": {
      "text/plain": [
       "Operating Airline      object\n",
       "GEO Region             object\n",
       "Activity Type Code     object\n",
       "Price Category Code    object\n",
       "Boarding Area          object\n",
       "Month                  object\n",
       "dtype: object"
      ]
     },
     "execution_count": 68,
     "metadata": {},
     "output_type": "execute_result"
    }
   ],
   "source": [
    "df_air_filt.dtypes[df_air_filt.dtypes=='object']"
   ]
  },
  {
   "cell_type": "code",
   "execution_count": 69,
   "metadata": {},
   "outputs": [
    {
     "name": "stdout",
     "output_type": "stream",
     "text": [
      "15002    3\n",
      "15003    3\n",
      "15004    3\n",
      "15005    3\n",
      "15006    3\n",
      "Name: Month, dtype: int64\n"
     ]
    }
   ],
   "source": [
    "\n",
    "meses_numeros = {\n",
    "    'January': 1,\n",
    "    'February': 2,\n",
    "    'March': 3,\n",
    "    'April': 4,\n",
    "    'May': 5,\n",
    "    'June': 6,\n",
    "    'July': 7,\n",
    "    'August': 8,\n",
    "    'September': 9,\n",
    "    'October': 10,\n",
    "    'November': 11,\n",
    "    'December': 12\n",
    "}\n",
    "df_air_filt[\"Month\"]=df_air_filt[\"Month\"].map(meses_numeros)\n",
    "print(df_air_filt[\"Month\"].tail())"
   ]
  },
  {
   "cell_type": "code",
   "execution_count": 70,
   "metadata": {},
   "outputs": [
    {
     "name": "stdout",
     "output_type": "stream",
     "text": [
      "0        B\n",
      "1        G\n",
      "2        A\n",
      "3        E\n",
      "4        C\n",
      "5        F\n",
      "6    Other\n",
      "7        D\n",
      "Name: Boarding Area, dtype: object\n"
     ]
    }
   ],
   "source": [
    "valores_unicos = df_air_filt['Boarding Area'].unique().compute()\n",
    "\n",
    "\n",
    "print(valores_unicos)"
   ]
  },
  {
   "cell_type": "code",
   "execution_count": 71,
   "metadata": {},
   "outputs": [
    {
     "data": {
      "text/plain": [
       "0    2.0\n",
       "1    2.0\n",
       "2    2.0\n",
       "3    2.0\n",
       "4    2.0\n",
       "Name: Boarding Area, dtype: float64"
      ]
     },
     "execution_count": 71,
     "metadata": {},
     "output_type": "execute_result"
    }
   ],
   "source": [
    "\n",
    "boarding_area = {\n",
    "    'A': 1,\n",
    "    'B': 2,\n",
    "    'C': 3,\n",
    "    'D': 4,\n",
    "    'E': 5,\n",
    "    'F':6,\n",
    "    'G':7\n",
    "    \n",
    "    }\n",
    "df_air_filt[\"Boarding Area\"]=df_air_filt[\"Boarding Area\"].map(boarding_area)\n",
    "df_air_filt[\"Boarding Area\"].head()"
   ]
  },
  {
   "cell_type": "code",
   "execution_count": 72,
   "metadata": {},
   "outputs": [
    {
     "name": "stdout",
     "output_type": "stream",
     "text": [
      "0                     US\n",
      "1                 Canada\n",
      "2                   Asia\n",
      "3                 Europe\n",
      "4    Australia / Oceania\n",
      "5                 Mexico\n",
      "6        Central America\n",
      "7            Middle East\n",
      "8          South America\n",
      "Name: GEO Region, dtype: object\n"
     ]
    }
   ],
   "source": [
    "valores_unico = df_air_filt['GEO Region'].unique().compute()\n",
    "\n",
    "\n",
    "print(valores_unico)"
   ]
  },
  {
   "cell_type": "code",
   "execution_count": 73,
   "metadata": {},
   "outputs": [
    {
     "name": "stdout",
     "output_type": "stream",
     "text": [
      "0    1.0\n",
      "1    1.0\n",
      "2    1.0\n",
      "3    2.0\n",
      "4    2.0\n",
      "Name: GEO Region, dtype: float64\n"
     ]
    }
   ],
   "source": [
    "valores= {\n",
    "    'US':1,\n",
    "    'Canada':2,\n",
    "    'Asia': 3,\n",
    "    'Australia / Oceania': 4,\n",
    "    'Mexico': 5,\n",
    "    'Central America':6,\n",
    "    'Middle East':7,\n",
    "    'South America':8\n",
    "    }\n",
    "df_air_filt[\"GEO Region\"]=df_air_filt[\"GEO Region\"].map(valores)\n",
    "print(df_air_filt[\"GEO Region\"].head())"
   ]
  },
  {
   "cell_type": "code",
   "execution_count": 74,
   "metadata": {},
   "outputs": [
    {
     "name": "stdout",
     "output_type": "stream",
     "text": [
      "0    Low Fare\n",
      "1       Other\n",
      "Name: Price Category Code, dtype: object\n"
     ]
    }
   ],
   "source": [
    "valores_unico = df_air_filt['Price Category Code'].unique().compute()\n",
    "\n",
    "\n",
    "print(valores_unico)"
   ]
  },
  {
   "cell_type": "code",
   "execution_count": 75,
   "metadata": {},
   "outputs": [
    {
     "name": "stdout",
     "output_type": "stream",
     "text": [
      "0    0\n",
      "1    0\n",
      "2    0\n",
      "3    1\n",
      "4    1\n",
      "Name: Price Category Code, dtype: int64\n"
     ]
    }
   ],
   "source": [
    "valores= {\n",
    "    'Low Fare':0,\n",
    "    'Other':1\n",
    "    }\n",
    "df_air_filt[\"Price Category Code\"]=df_air_filt[\"Price Category Code\"].map(valores)\n",
    "print(df_air_filt[\"Price Category Code\"].head())"
   ]
  },
  {
   "cell_type": "code",
   "execution_count": 76,
   "metadata": {},
   "outputs": [
    {
     "data": {
      "text/plain": [
       "0    ATA Airlines\n",
       "1    ATA Airlines\n",
       "2    ATA Airlines\n",
       "3     Air Canada \n",
       "4     Air Canada \n",
       "Name: Operating Airline, dtype: object"
      ]
     },
     "execution_count": 76,
     "metadata": {},
     "output_type": "execute_result"
    }
   ],
   "source": [
    "df_air_filt[\"Operating Airline\"].head()"
   ]
  },
  {
   "cell_type": "code",
   "execution_count": 77,
   "metadata": {},
   "outputs": [
    {
     "name": "stdout",
     "output_type": "stream",
     "text": [
      "0            ATA Airlines\n",
      "1             Air Canada \n",
      "2               Air China\n",
      "3              Air France\n",
      "4         Air New Zealand\n",
      "             ...         \n",
      "72         Etihad Airways\n",
      "73         China Southern\n",
      "74       Turkish Airlines\n",
      "75    COPA Airlines, Inc.\n",
      "76      Air India Limited\n",
      "Name: Operating Airline, Length: 77, dtype: object\n"
     ]
    }
   ],
   "source": [
    "valores_unicos = df_air_filt['Operating Airline'].unique().compute()\n",
    "\n",
    "\n",
    "print(valores_unicos)"
   ]
  },
  {
   "cell_type": "code",
   "execution_count": 78,
   "metadata": {},
   "outputs": [],
   "source": [
    "valores_unicos=df_air_filt[\"Operating Airline\"].unique().compute()\n",
    "columna=df_air_filt[\"Operating Airline\"]\n",
    "valor_int=np.arange(len(valores_unicos))\n",
    "valor_dict=dict(zip(valores_unicos, valor_int))\n",
    "\n",
    "df_air_filt[\"Operating Airline\"]=df_air_filt[\"Operating Airline\"].map(lambda x: valor_dict.get(x,np.nan),meta=(columna, 'int64'))"
   ]
  },
  {
   "cell_type": "code",
   "execution_count": 79,
   "metadata": {},
   "outputs": [
    {
     "name": "stdout",
     "output_type": "stream",
     "text": [
      "0          Deplaned\n",
      "1          Enplaned\n",
      "2    Thru / Transit\n",
      "Name: Activity Type Code, dtype: object\n"
     ]
    }
   ],
   "source": [
    "valores_unicos = df_air_filt['Activity Type Code'].unique().compute()\n",
    "\n",
    "\n",
    "print(valores_unicos)"
   ]
  },
  {
   "cell_type": "code",
   "execution_count": 80,
   "metadata": {},
   "outputs": [
    {
     "name": "stdout",
     "output_type": "stream",
     "text": [
      "0    1\n",
      "1    2\n",
      "2    3\n",
      "3    1\n",
      "4    2\n",
      "Name: Activity Type Code, dtype: int64\n"
     ]
    }
   ],
   "source": [
    "valores= {\n",
    "    'Deplaned':1,\n",
    "    'Enplaned':2,\n",
    "    'Thru / Transit': 3,\n",
    "    }\n",
    "df_air_filt[\"Activity Type Code\"]=df_air_filt[\"Activity Type Code\"].map(valores)\n",
    "print(df_air_filt[\"Activity Type Code\"].head())"
   ]
  },
  {
   "cell_type": "code",
   "execution_count": 81,
   "metadata": {},
   "outputs": [
    {
     "name": "stdout",
     "output_type": "stream",
     "text": [
      "Dask Series Structure:\n",
      "npartitions=1\n",
      "Activity Period    int64\n",
      "Year                 ...\n",
      "dtype: int64\n",
      "Dask Name: dataframe-sum-agg, 28 tasks\n",
      "Activity Period           0\n",
      "Operating Airline         0\n",
      "GEO Region             2089\n",
      "Activity Type Code        0\n",
      "Price Category Code       0\n",
      "Terminal               9224\n",
      "Boarding Area            27\n",
      "Passenger Count           0\n",
      "Year                      0\n",
      "Month                     0\n",
      "dtype: int64\n"
     ]
    }
   ],
   "source": [
    "suma_nulos = df_air_filt.isnull().sum()\n",
    "print(suma_nulos)\n",
    "suma_nulos_resultado = suma_nulos.compute()\n",
    "print(suma_nulos_resultado)"
   ]
  },
  {
   "cell_type": "code",
   "execution_count": 82,
   "metadata": {},
   "outputs": [
    {
     "data": {
      "text/html": [
       "<div>\n",
       "<style scoped>\n",
       "    .dataframe tbody tr th:only-of-type {\n",
       "        vertical-align: middle;\n",
       "    }\n",
       "\n",
       "    .dataframe tbody tr th {\n",
       "        vertical-align: top;\n",
       "    }\n",
       "\n",
       "    .dataframe thead th {\n",
       "        text-align: right;\n",
       "    }\n",
       "</style>\n",
       "<table border=\"1\" class=\"dataframe\">\n",
       "  <thead>\n",
       "    <tr style=\"text-align: right;\">\n",
       "      <th></th>\n",
       "      <th>Activity Period</th>\n",
       "      <th>Operating Airline</th>\n",
       "      <th>GEO Region</th>\n",
       "      <th>Activity Type Code</th>\n",
       "      <th>Price Category Code</th>\n",
       "      <th>Terminal</th>\n",
       "      <th>Boarding Area</th>\n",
       "      <th>Passenger Count</th>\n",
       "      <th>Year</th>\n",
       "      <th>Month</th>\n",
       "    </tr>\n",
       "  </thead>\n",
       "  <tbody>\n",
       "    <tr>\n",
       "      <th>0</th>\n",
       "      <td>200507</td>\n",
       "      <td>0</td>\n",
       "      <td>1.0</td>\n",
       "      <td>1</td>\n",
       "      <td>0</td>\n",
       "      <td>1.0</td>\n",
       "      <td>2.0</td>\n",
       "      <td>27271</td>\n",
       "      <td>2005</td>\n",
       "      <td>7</td>\n",
       "    </tr>\n",
       "    <tr>\n",
       "      <th>1</th>\n",
       "      <td>200507</td>\n",
       "      <td>0</td>\n",
       "      <td>1.0</td>\n",
       "      <td>2</td>\n",
       "      <td>0</td>\n",
       "      <td>1.0</td>\n",
       "      <td>2.0</td>\n",
       "      <td>29131</td>\n",
       "      <td>2005</td>\n",
       "      <td>7</td>\n",
       "    </tr>\n",
       "    <tr>\n",
       "      <th>2</th>\n",
       "      <td>200507</td>\n",
       "      <td>0</td>\n",
       "      <td>1.0</td>\n",
       "      <td>3</td>\n",
       "      <td>0</td>\n",
       "      <td>1.0</td>\n",
       "      <td>2.0</td>\n",
       "      <td>5415</td>\n",
       "      <td>2005</td>\n",
       "      <td>7</td>\n",
       "    </tr>\n",
       "    <tr>\n",
       "      <th>3</th>\n",
       "      <td>200507</td>\n",
       "      <td>1</td>\n",
       "      <td>2.0</td>\n",
       "      <td>1</td>\n",
       "      <td>1</td>\n",
       "      <td>1.0</td>\n",
       "      <td>2.0</td>\n",
       "      <td>35156</td>\n",
       "      <td>2005</td>\n",
       "      <td>7</td>\n",
       "    </tr>\n",
       "    <tr>\n",
       "      <th>4</th>\n",
       "      <td>200507</td>\n",
       "      <td>1</td>\n",
       "      <td>2.0</td>\n",
       "      <td>2</td>\n",
       "      <td>1</td>\n",
       "      <td>1.0</td>\n",
       "      <td>2.0</td>\n",
       "      <td>34090</td>\n",
       "      <td>2005</td>\n",
       "      <td>7</td>\n",
       "    </tr>\n",
       "  </tbody>\n",
       "</table>\n",
       "</div>"
      ],
      "text/plain": [
       "   Activity Period  Operating Airline  GEO Region  Activity Type Code  \\\n",
       "0           200507                  0         1.0                   1   \n",
       "1           200507                  0         1.0                   2   \n",
       "2           200507                  0         1.0                   3   \n",
       "3           200507                  1         2.0                   1   \n",
       "4           200507                  1         2.0                   2   \n",
       "\n",
       "   Price Category Code  Terminal  Boarding Area  Passenger Count  Year  Month  \n",
       "0                    0       1.0            2.0            27271  2005      7  \n",
       "1                    0       1.0            2.0            29131  2005      7  \n",
       "2                    0       1.0            2.0             5415  2005      7  \n",
       "3                    1       1.0            2.0            35156  2005      7  \n",
       "4                    1       1.0            2.0            34090  2005      7  "
      ]
     },
     "execution_count": 82,
     "metadata": {},
     "output_type": "execute_result"
    }
   ],
   "source": [
    "df_air_filt2 = df_air_filt[df_air_filt['Terminal'].notnull() & df_air_filt['Boarding Area'].notnull()]\n",
    "df_air_filt2.head()"
   ]
  },
  {
   "cell_type": "code",
   "execution_count": 83,
   "metadata": {},
   "outputs": [
    {
     "name": "stdout",
     "output_type": "stream",
     "text": [
      "Dask Series Structure:\n",
      "npartitions=1\n",
      "Activity Period    int64\n",
      "Year                 ...\n",
      "dtype: int64\n",
      "Dask Name: dataframe-sum-agg, 34 tasks\n",
      "Activity Period        0\n",
      "Operating Airline      0\n",
      "GEO Region             0\n",
      "Activity Type Code     0\n",
      "Price Category Code    0\n",
      "Terminal               0\n",
      "Boarding Area          0\n",
      "Passenger Count        0\n",
      "Year                   0\n",
      "Month                  0\n",
      "dtype: int64\n"
     ]
    }
   ],
   "source": [
    "suma_nulos = df_air_filt2.isnull().sum()\n",
    "print(suma_nulos)\n",
    "suma_nulos_resultado = suma_nulos.compute()\n",
    "print(suma_nulos_resultado)"
   ]
  },
  {
   "attachments": {},
   "cell_type": "markdown",
   "metadata": {},
   "source": [
    "Media y desviacion tipica"
   ]
  },
  {
   "cell_type": "code",
   "execution_count": 84,
   "metadata": {},
   "outputs": [
    {
     "name": "stdout",
     "output_type": "stream",
     "text": [
      "Media:\n",
      "Activity Period        201004.520837\n",
      "Operating Airline          29.033028\n",
      "GEO Region                  1.268546\n",
      "Activity Type Code          1.644821\n",
      "Price Category Code         0.782812\n",
      "Terminal                    1.823102\n",
      "Boarding Area               3.709666\n",
      "Passenger Count         55944.645686\n",
      "Year                     2009.979768\n",
      "Month                       6.544008\n",
      "dtype: float64\n",
      "\n",
      "Desviación estándar:\n",
      "Activity Period          308.340649\n",
      "Operating Airline         15.432274\n",
      "GEO Region                 0.731742\n",
      "Activity Type Code         0.634321\n",
      "Price Category Code        0.412367\n",
      "Terminal                   0.955426\n",
      "Boarding Area              1.623586\n",
      "Passenger Count        85530.707364\n",
      "Year                       3.087691\n",
      "Month                      3.473339\n",
      "dtype: float64\n"
     ]
    }
   ],
   "source": [
    "media = df_air_filt2.mean().compute()\n",
    "desviacion_estandar = df_air_filt2.std().compute()\n",
    "print(\"Media:\")\n",
    "print(media)\n",
    "print(\"\\nDesviación estándar:\")\n",
    "print(desviacion_estandar)"
   ]
  },
  {
   "cell_type": "code",
   "execution_count": 85,
   "metadata": {},
   "outputs": [
    {
     "name": "stdout",
     "output_type": "stream",
     "text": [
      "\n",
      "Elementos clave sin repeticiones de columna consigo misma:\n",
      "[('Activity Period', 'Year')]\n"
     ]
    }
   ],
   "source": [
    "\n",
    "\n",
    "# Calcular la correlación entre todas las columnas\n",
    "correlacion = df_air_filt.corr().compute()\n",
    "\n",
    "# Obtener las 10 columnas más correlacionadas\n",
    "columnas_seleccionadas = correlacion.unstack().sort_values(ascending=False)[:11]\n",
    "elementos_clave = columnas_seleccionadas.index.tolist()\n",
    "\n",
    "# Filtrar las repeticiones consigo mismas y otro orden\n",
    "elementos_clave_sin_repeticiones = set()\n",
    "for elemento in elementos_clave:\n",
    "    if elemento[0] != elemento[1]:\n",
    "        elementos_clave_sin_repeticiones.add((min(elemento), max(elemento)))\n",
    "\n",
    "# Convertir el conjunto a una lista\n",
    "elementos_clave_sin_repeticiones = list(elementos_clave_sin_repeticiones)\n",
    "\n",
    "# Imprimir los elementos clave sin repeticiones de columna consigo misma\n",
    "print(\"\\nElementos clave sin repeticiones de columna consigo misma:\")\n",
    "print(elementos_clave_sin_repeticiones)\n",
    "\n",
    "\n"
   ]
  },
  {
   "cell_type": "code",
   "execution_count": 86,
   "metadata": {},
   "outputs": [
    {
     "name": "stdout",
     "output_type": "stream",
     "text": [
      "Price Category Code\n",
      "['Activity Period', 'Operating Airline', 'GEO Region', 'Activity Type Code', 'Terminal', 'Boarding Area', 'Passenger Count', 'Year', 'Month']\n"
     ]
    }
   ],
   "source": [
    "# Generar la lista de features y la variable target\n",
    "target = 'Price Category Code'\n",
    "features = [x for x in df_air_filt2.columns if x!=target]\n",
    "\n",
    "print(target)\n",
    "print(features)"
   ]
  },
  {
   "cell_type": "code",
   "execution_count": 87,
   "metadata": {},
   "outputs": [
    {
     "data": {
      "text/html": [
       "<style>#sk-container-id-2 {color: black;background-color: white;}#sk-container-id-2 pre{padding: 0;}#sk-container-id-2 div.sk-toggleable {background-color: white;}#sk-container-id-2 label.sk-toggleable__label {cursor: pointer;display: block;width: 100%;margin-bottom: 0;padding: 0.3em;box-sizing: border-box;text-align: center;}#sk-container-id-2 label.sk-toggleable__label-arrow:before {content: \"▸\";float: left;margin-right: 0.25em;color: #696969;}#sk-container-id-2 label.sk-toggleable__label-arrow:hover:before {color: black;}#sk-container-id-2 div.sk-estimator:hover label.sk-toggleable__label-arrow:before {color: black;}#sk-container-id-2 div.sk-toggleable__content {max-height: 0;max-width: 0;overflow: hidden;text-align: left;background-color: #f0f8ff;}#sk-container-id-2 div.sk-toggleable__content pre {margin: 0.2em;color: black;border-radius: 0.25em;background-color: #f0f8ff;}#sk-container-id-2 input.sk-toggleable__control:checked~div.sk-toggleable__content {max-height: 200px;max-width: 100%;overflow: auto;}#sk-container-id-2 input.sk-toggleable__control:checked~label.sk-toggleable__label-arrow:before {content: \"▾\";}#sk-container-id-2 div.sk-estimator input.sk-toggleable__control:checked~label.sk-toggleable__label {background-color: #d4ebff;}#sk-container-id-2 div.sk-label input.sk-toggleable__control:checked~label.sk-toggleable__label {background-color: #d4ebff;}#sk-container-id-2 input.sk-hidden--visually {border: 0;clip: rect(1px 1px 1px 1px);clip: rect(1px, 1px, 1px, 1px);height: 1px;margin: -1px;overflow: hidden;padding: 0;position: absolute;width: 1px;}#sk-container-id-2 div.sk-estimator {font-family: monospace;background-color: #f0f8ff;border: 1px dotted black;border-radius: 0.25em;box-sizing: border-box;margin-bottom: 0.5em;}#sk-container-id-2 div.sk-estimator:hover {background-color: #d4ebff;}#sk-container-id-2 div.sk-parallel-item::after {content: \"\";width: 100%;border-bottom: 1px solid gray;flex-grow: 1;}#sk-container-id-2 div.sk-label:hover label.sk-toggleable__label {background-color: #d4ebff;}#sk-container-id-2 div.sk-serial::before {content: \"\";position: absolute;border-left: 1px solid gray;box-sizing: border-box;top: 0;bottom: 0;left: 50%;z-index: 0;}#sk-container-id-2 div.sk-serial {display: flex;flex-direction: column;align-items: center;background-color: white;padding-right: 0.2em;padding-left: 0.2em;position: relative;}#sk-container-id-2 div.sk-item {position: relative;z-index: 1;}#sk-container-id-2 div.sk-parallel {display: flex;align-items: stretch;justify-content: center;background-color: white;position: relative;}#sk-container-id-2 div.sk-item::before, #sk-container-id-2 div.sk-parallel-item::before {content: \"\";position: absolute;border-left: 1px solid gray;box-sizing: border-box;top: 0;bottom: 0;left: 50%;z-index: -1;}#sk-container-id-2 div.sk-parallel-item {display: flex;flex-direction: column;z-index: 1;position: relative;background-color: white;}#sk-container-id-2 div.sk-parallel-item:first-child::after {align-self: flex-end;width: 50%;}#sk-container-id-2 div.sk-parallel-item:last-child::after {align-self: flex-start;width: 50%;}#sk-container-id-2 div.sk-parallel-item:only-child::after {width: 0;}#sk-container-id-2 div.sk-dashed-wrapped {border: 1px dashed gray;margin: 0 0.4em 0.5em 0.4em;box-sizing: border-box;padding-bottom: 0.4em;background-color: white;}#sk-container-id-2 div.sk-label label {font-family: monospace;font-weight: bold;display: inline-block;line-height: 1.2em;}#sk-container-id-2 div.sk-label-container {text-align: center;}#sk-container-id-2 div.sk-container {/* jupyter's `normalize.less` sets `[hidden] { display: none; }` but bootstrap.min.css set `[hidden] { display: none !important; }` so we also need the `!important` here to be able to override the default hidden behavior on the sphinx rendered scikit-learn.org. See: https://github.com/scikit-learn/scikit-learn/issues/21755 */display: inline-block !important;position: relative;}#sk-container-id-2 div.sk-text-repr-fallback {display: none;}</style><div id=\"sk-container-id-2\" class=\"sk-top-container\"><div class=\"sk-text-repr-fallback\"><pre>DecisionTreeRegressor(max_depth=19, random_state=100)</pre><b>In a Jupyter environment, please rerun this cell to show the HTML representation or trust the notebook. <br />On GitHub, the HTML representation is unable to render, please try loading this page with nbviewer.org.</b></div><div class=\"sk-container\" hidden><div class=\"sk-item\"><div class=\"sk-estimator sk-toggleable\"><input class=\"sk-toggleable__control sk-hidden--visually\" id=\"sk-estimator-id-2\" type=\"checkbox\" checked><label for=\"sk-estimator-id-2\" class=\"sk-toggleable__label sk-toggleable__label-arrow\">DecisionTreeRegressor</label><div class=\"sk-toggleable__content\"><pre>DecisionTreeRegressor(max_depth=19, random_state=100)</pre></div></div></div></div></div>"
      ],
      "text/plain": [
       "DecisionTreeRegressor(max_depth=19, random_state=100)"
      ]
     },
     "execution_count": 87,
     "metadata": {},
     "output_type": "execute_result"
    }
   ],
   "source": [
    "# Importar el algoritmo de árboles de decisión\n",
    "from sklearn.tree import DecisionTreeRegressor\n",
    "\n",
    "# Asignar el algortimo e indicar la profundidad máxima del árbol (con un número rotandamente grande para sobreajustar)\n",
    "arbol_importancia = DecisionTreeRegressor(max_depth=len(features)+10, random_state=100)\n",
    "\n",
    "# Entrenar un árbol con todo el conjunto de datos\n",
    "arbol_importancia.fit(X=df_air_filt2[features], y=df_air_filt2[target])"
   ]
  },
  {
   "cell_type": "code",
   "execution_count": 88,
   "metadata": {},
   "outputs": [
    {
     "name": "stdout",
     "output_type": "stream",
     "text": [
      "Mean Absolute Error: 0.000403481468672546\n",
      "Mean Absolute Percentage Error: 90855949598228.94\n",
      "Mean Squared Error: 0.000201740734336273\n",
      "Root Mean Squared Error: 0.014203546540785967\n",
      "R^2 coefficient of determination: 0.9988134122840218\n"
     ]
    }
   ],
   "source": [
    "y_pred_arbol = arbol_importancia.predict(X=df_air_filt2[features])\n",
    "\n",
    "from sklearn.metrics import mean_absolute_error\n",
    "from sklearn.metrics import mean_absolute_percentage_error\n",
    "from sklearn.metrics import mean_squared_error\n",
    "from sklearn.metrics import r2_score\n",
    "\n",
    "# Métricas para evaluar la calidad del modelo\n",
    "print('Mean Absolute Error:', mean_absolute_error(df_air_filt2[target], y_pred_arbol))\n",
    "print('Mean Absolute Percentage Error:', mean_absolute_percentage_error(df_air_filt2[target], y_pred_arbol)*100)\n",
    "print('Mean Squared Error:', mean_squared_error(df_air_filt2[target], y_pred_arbol))\n",
    "print('Root Mean Squared Error:', np.sqrt(mean_squared_error(df_air_filt2[target], y_pred_arbol)))\n",
    "print('R^2 coefficient of determination:', r2_score(df_air_filt2[target], y_pred_arbol))"
   ]
  },
  {
   "cell_type": "code",
   "execution_count": 89,
   "metadata": {},
   "outputs": [
    {
     "data": {
      "text/plain": [
       "array([1.58058395e-02, 6.66527496e-01, 8.90803910e-02, 3.62056344e-04,\n",
       "       2.12992658e-02, 5.40372720e-03, 1.86989344e-01, 7.26936077e-03,\n",
       "       7.26251896e-03])"
      ]
     },
     "execution_count": 89,
     "metadata": {},
     "output_type": "execute_result"
    }
   ],
   "source": [
    "arbol_importancia.feature_importances_"
   ]
  },
  {
   "cell_type": "code",
   "execution_count": 90,
   "metadata": {},
   "outputs": [
    {
     "data": {
      "text/html": [
       "<div>\n",
       "<style scoped>\n",
       "    .dataframe tbody tr th:only-of-type {\n",
       "        vertical-align: middle;\n",
       "    }\n",
       "\n",
       "    .dataframe tbody tr th {\n",
       "        vertical-align: top;\n",
       "    }\n",
       "\n",
       "    .dataframe thead th {\n",
       "        text-align: right;\n",
       "    }\n",
       "</style>\n",
       "<table border=\"1\" class=\"dataframe\">\n",
       "  <thead>\n",
       "    <tr style=\"text-align: right;\">\n",
       "      <th></th>\n",
       "      <th>Importancia</th>\n",
       "    </tr>\n",
       "  </thead>\n",
       "  <tbody>\n",
       "    <tr>\n",
       "      <th>Operating Airline</th>\n",
       "      <td>0.666527</td>\n",
       "    </tr>\n",
       "    <tr>\n",
       "      <th>Passenger Count</th>\n",
       "      <td>0.186989</td>\n",
       "    </tr>\n",
       "    <tr>\n",
       "      <th>GEO Region</th>\n",
       "      <td>0.089080</td>\n",
       "    </tr>\n",
       "    <tr>\n",
       "      <th>Terminal</th>\n",
       "      <td>0.021299</td>\n",
       "    </tr>\n",
       "    <tr>\n",
       "      <th>Activity Period</th>\n",
       "      <td>0.015806</td>\n",
       "    </tr>\n",
       "    <tr>\n",
       "      <th>Year</th>\n",
       "      <td>0.007269</td>\n",
       "    </tr>\n",
       "    <tr>\n",
       "      <th>Month</th>\n",
       "      <td>0.007263</td>\n",
       "    </tr>\n",
       "    <tr>\n",
       "      <th>Boarding Area</th>\n",
       "      <td>0.005404</td>\n",
       "    </tr>\n",
       "    <tr>\n",
       "      <th>Activity Type Code</th>\n",
       "      <td>0.000362</td>\n",
       "    </tr>\n",
       "  </tbody>\n",
       "</table>\n",
       "</div>"
      ],
      "text/plain": [
       "                    Importancia\n",
       "Operating Airline      0.666527\n",
       "Passenger Count        0.186989\n",
       "GEO Region             0.089080\n",
       "Terminal               0.021299\n",
       "Activity Period        0.015806\n",
       "Year                   0.007269\n",
       "Month                  0.007263\n",
       "Boarding Area          0.005404\n",
       "Activity Type Code     0.000362"
      ]
     },
     "execution_count": 90,
     "metadata": {},
     "output_type": "execute_result"
    }
   ],
   "source": [
    "\n",
    "import pandas as pd\n",
    "\n",
    "\n",
    "# Convertir a DataFrame de pandas\n",
    "df = pd.DataFrame({'Importancia': arbol_importancia.feature_importances_}, index=features)\n",
    "\n",
    "# Crear un Dask DataFrame a partir del DataFrame de pandas\n",
    "importancia = dd.from_pandas(df, npartitions=1)\n",
    "\n",
    "# Ordenar los datos\n",
    "importancia = importancia.sort_values(by='Importancia', ascending=False)\n",
    "\n",
    "importancia.compute()\n"
   ]
  },
  {
   "cell_type": "code",
   "execution_count": 91,
   "metadata": {},
   "outputs": [
    {
     "data": {
      "text/html": [
       "<div>\n",
       "<style scoped>\n",
       "    .dataframe tbody tr th:only-of-type {\n",
       "        vertical-align: middle;\n",
       "    }\n",
       "\n",
       "    .dataframe tbody tr th {\n",
       "        vertical-align: top;\n",
       "    }\n",
       "\n",
       "    .dataframe thead th {\n",
       "        text-align: right;\n",
       "    }\n",
       "</style>\n",
       "<table border=\"1\" class=\"dataframe\">\n",
       "  <thead>\n",
       "    <tr style=\"text-align: right;\">\n",
       "      <th></th>\n",
       "      <th>Importancia</th>\n",
       "      <th>imp_acum</th>\n",
       "    </tr>\n",
       "  </thead>\n",
       "  <tbody>\n",
       "    <tr>\n",
       "      <th>Operating Airline</th>\n",
       "      <td>0.666527</td>\n",
       "      <td>0.666527</td>\n",
       "    </tr>\n",
       "    <tr>\n",
       "      <th>Passenger Count</th>\n",
       "      <td>0.186989</td>\n",
       "      <td>0.853517</td>\n",
       "    </tr>\n",
       "    <tr>\n",
       "      <th>GEO Region</th>\n",
       "      <td>0.089080</td>\n",
       "      <td>0.942597</td>\n",
       "    </tr>\n",
       "    <tr>\n",
       "      <th>Terminal</th>\n",
       "      <td>0.021299</td>\n",
       "      <td>0.963896</td>\n",
       "    </tr>\n",
       "    <tr>\n",
       "      <th>Activity Period</th>\n",
       "      <td>0.015806</td>\n",
       "      <td>0.979702</td>\n",
       "    </tr>\n",
       "    <tr>\n",
       "      <th>Year</th>\n",
       "      <td>0.007269</td>\n",
       "      <td>0.986972</td>\n",
       "    </tr>\n",
       "    <tr>\n",
       "      <th>Month</th>\n",
       "      <td>0.007263</td>\n",
       "      <td>0.994234</td>\n",
       "    </tr>\n",
       "    <tr>\n",
       "      <th>Boarding Area</th>\n",
       "      <td>0.005404</td>\n",
       "      <td>0.999638</td>\n",
       "    </tr>\n",
       "    <tr>\n",
       "      <th>Activity Type Code</th>\n",
       "      <td>0.000362</td>\n",
       "      <td>1.000000</td>\n",
       "    </tr>\n",
       "  </tbody>\n",
       "</table>\n",
       "</div>"
      ],
      "text/plain": [
       "                    Importancia  imp_acum\n",
       "Operating Airline      0.666527  0.666527\n",
       "Passenger Count        0.186989  0.853517\n",
       "GEO Region             0.089080  0.942597\n",
       "Terminal               0.021299  0.963896\n",
       "Activity Period        0.015806  0.979702\n",
       "Year                   0.007269  0.986972\n",
       "Month                  0.007263  0.994234\n",
       "Boarding Area          0.005404  0.999638\n",
       "Activity Type Code     0.000362  1.000000"
      ]
     },
     "execution_count": 91,
     "metadata": {},
     "output_type": "execute_result"
    }
   ],
   "source": [
    "importancia[\"imp_acum\"] = importancia[\"Importancia\"].cumsum()\n",
    "importancia.compute()"
   ]
  },
  {
   "cell_type": "code",
   "execution_count": 92,
   "metadata": {},
   "outputs": [
    {
     "data": {
      "image/png": "[encoded data removed]",
      "text/plain": [
       "<Figure size 640x480 with 2 Axes>"
      ]
     },
     "metadata": {},
     "output_type": "display_data"
    }
   ],
   "source": [
    "from sklearn.model_selection import train_test_split\n",
    "from sklearn.linear_model import LogisticRegression\n",
    "from sklearn.metrics import confusion_matrix\n",
    "import dask.dataframe as dd\n",
    "import matplotlib.pyplot as plt\n",
    "\n",
    "# Cargar el archivo CSV en un DataFrame de Dask\n",
    "df = dd.read_csv('c:\\\\Users\\\\Angel Martínez\\\\Documents\\\\GitHub\\\\Air_Trafic\\\\air_traffic_data_limpio.csv\\\\0.part').compute()\n",
    "\n",
    "# Convertir los DataFrames de Dask a matrices NumPy\n",
    "X = df.iloc[:, :-1].to_numpy()\n",
    "y = df.iloc[:, -1].to_numpy()\n",
    "\n",
    "# Dividir las matrices de entrenamiento y prueba\n",
    "X_train, X_test, y_train, y_test = train_test_split(X, y, test_size=0.2)\n",
    "\n",
    "# Entrenar un modelo de regresión logística utilizando scikit-learn\n",
    "model = LogisticRegression()\n",
    "model.fit(X_train, y_train)\n",
    "\n",
    "# Hacer predicciones en el conjunto de prueba\n",
    "y_pred = model.predict(X_test)\n",
    "\n",
    "# Calcular la matriz de confusión utilizando scikit-learn\n",
    "confusion = confusion_matrix(y_test, y_pred)\n",
    "\n",
    "# Visualizar la matriz de confusión\n",
    "plt.imshow(confusion, cmap='Blues')\n",
    "plt.colorbar()\n",
    "\n",
    "# Etiquetas de los ejes\n",
    "plt.xlabel('Etiquetas predichas')\n",
    "plt.ylabel('Etiquetas verdaderas')\n",
    "\n",
    "# Títulos de los ejes\n",
    "plt.title('Matriz de Confusión')\n",
    "\n",
    "# Mostrar el gráfico\n",
    "plt.show()\n"
   ]
  },
  {
   "attachments": {},
   "cell_type": "markdown",
   "metadata": {},
   "source": [
    "EXAMEN ORDINARIA    "
   ]
  },
  {
   "cell_type": "code",
   "execution_count": 93,
   "metadata": {},
   "outputs": [
    {
     "name": "stdout",
     "output_type": "stream",
     "text": [
      "Valor de tu Bitcoin en euros: 100000.0\n",
      "Correlación entre el valor de tu Bitcoin en euros y los datos de tráfico aéreo:\n",
      "Dask DataFrame Structure:\n",
      "              Activity Period Operating Airline GEO Region Activity Type Code Terminal Boarding Area Passenger Count correlation_data\n",
      "npartitions=1                                                                                                                        \n",
      "                        int64             int64    float64            float64  float64       float64           int64          float64\n",
      "                          ...               ...        ...                ...      ...           ...             ...              ...\n",
      "Dask Name: getitem, 35 tasks\n"
     ]
    }
   ],
   "source": [
    "\n",
    "\n",
    "def bitcoinToEuros(bitcoin_amount, bitcoin_value_euros):\n",
    "    euros_value = bitcoin_amount * bitcoin_value_euros\n",
    "    return euros_value\n",
    "\n",
    "# Supongamos que tienes 2.5 bitcoins y el valor actual de 1 bitcoin es de 40000 euros.\n",
    "bitcoin_amount = 2.5\n",
    "bitcoin_value_euros = 40000\n",
    "\n",
    "\n",
    "# Calcular el valor de tu Bitcoin en euros utilizando la función bitcoinToEuros\n",
    "bitcoin_in_euros = bitcoinToEuros(bitcoin_amount, bitcoin_value_euros)\n",
    "\n",
    "# Verificar si el valor de Bitcoin en euros está por debajo de 30,000€ y enviar una alerta si es así\n",
    "if bitcoin_in_euros < 30000:\n",
    "    print(\"¡ALERTA! El valor de tu Bitcoin ha caído por debajo de 30,000€.\")\n",
    "\n",
    "# Correlacionar el valor de tu Bitcoin en euros con los datos de tráfico aéreo\n",
    "df_air_filt2['correlation_data'] = df_air_filt2['Passenger Count'] * bitcoin_in_euros\n",
    "\n",
    "# Imprimir los resultados\n",
    "print(\"Valor de tu Bitcoin en euros:\", bitcoin_in_euros)\n",
    "print(\"Correlación entre el valor de tu Bitcoin en euros y los datos de tráfico aéreo:\")\n",
    "print(df_air_filt2[['Activity Period', 'Operating Airline', 'GEO Region', 'Activity Type Code', 'Terminal', 'Boarding Area', 'Passenger Count', 'correlation_data']])\n"
   ]
  },
  {
   "cell_type": "code",
   "execution_count": 94,
   "metadata": {},
   "outputs": [
    {
     "name": "stdout",
     "output_type": "stream",
     "text": [
      "Valor de tu Bitcoin en euros: 100000.0\n",
      "Matriz de correlación:\n",
      "Dask DataFrame Structure:\n",
      "                 Activity Period Operating Airline GEO Region Activity Type Code Price Category Code Terminal Boarding Area Passenger Count     Year    Month correlation_data\n",
      "npartitions=1                                                                                                                                                                 \n",
      "Activity Period          float64           float64    float64            float64             float64  float64       float64         float64  float64  float64          float64\n",
      "correlation_data             ...               ...        ...                ...                 ...      ...           ...             ...      ...      ...              ...\n",
      "Dask Name: corr, 39 tasks\n"
     ]
    }
   ],
   "source": [
    "bitcoin_in_euros = bitcoinToEuros(bitcoin_amount, bitcoin_value_euros)\n",
    "\n",
    "# Calcular la correlación entre el valor de Bitcoin en euros y los datos de tráfico aéreo\n",
    "df_air_filt2['correlation_data'] = df_air_filt2['Passenger Count'] * bitcoin_in_euros\n",
    "\n",
    "# Calcular la matriz de correlación\n",
    "correlation_matrix = df_air_filt2.corr()\n",
    "\n",
    "# Imprimir los resultados\n",
    "print(\"Valor de tu Bitcoin en euros:\", bitcoin_in_euros)\n",
    "print(\"Matriz de correlación:\")\n",
    "print(correlation_matrix)"
   ]
  },
  {
   "cell_type": "code",
   "execution_count": 95,
   "metadata": {},
   "outputs": [
    {
     "data": {
      "image/png": "[encoded data removed]",
      "text/plain": [
       "<Figure size 1000x800 with 2 Axes>"
      ]
     },
     "metadata": {},
     "output_type": "display_data"
    }
   ],
   "source": [
    "bitcoin_in_euros = bitcoinToEuros(bitcoin_amount, bitcoin_value_euros)\n",
    "\n",
    "# Calcular la correlación entre el valor de Bitcoin en euros y los datos de tráfico aéreo\n",
    "df_air_filt2['correlation_data'] = df_air_filt2['Passenger Count'] * bitcoin_in_euros\n",
    "\n",
    "# Calcular la matriz de correlación\n",
    "correlation_matrix = df_air_filt2.corr()\n",
    "\n",
    "# Graficar la matriz de correlación utilizando un mapa de calor\n",
    "plt.figure(figsize=(10, 8))\n",
    "sns.heatmap(correlation_matrix, annot=True, cmap=\"coolwarm\")\n",
    "plt.title('Matriz de correlación')\n",
    "plt.show()"
   ]
  },
  {
   "cell_type": "code",
   "execution_count": null,
   "metadata": {},
   "outputs": [],
   "source": []
  }
 ],
 "metadata": {
  "kernelspec": {
   "display_name": "base",
   "language": "python",
   "name": "python3"
  },
  "language_info": {
   "codemirror_mode": {
    "name": "ipython",
    "version": 3
   },
   "file_extension": ".py",
   "mimetype": "text/x-python",
   "name": "python",
   "nbconvert_exporter": "python",
   "pygments_lexer": "ipython3",
   "version": "3.10.9"
  },
  "orig_nbformat": 4
 },
 "nbformat": 4,
 "nbformat_minor": 2
}
