{
 "cells": [
  {
   "attachments": {},
   "cell_type": "markdown",
   "metadata": {},
   "source": [
    "Leemos y filtramos el dataset"
   ]
  },
  {
   "cell_type": "code",
   "execution_count": 1182,
   "metadata": {},
   "outputs": [],
   "source": [
    "\n",
    "import dask.dataframe as dd\n"
   ]
  },
  {
   "cell_type": "code",
   "execution_count": 1183,
   "metadata": {},
   "outputs": [
    {
     "data": {
      "text/plain": [
       "['c:\\\\Users\\\\Angel Martínez\\\\Documents\\\\GitHub\\\\Air_Trafic\\\\archivo_sin_duplicados.csv\\\\0.part']"
      ]
     },
     "execution_count": 1183,
     "metadata": {},
     "output_type": "execute_result"
    }
   ],
   "source": [
    "\n",
    "\n",
    "# Cargar el conjunto de datos en un dataframe de Dask\n",
    "df = dd.read_csv('air_traffic_data.csv')\n",
    "\n",
    "# Eliminar registros duplicados\n",
    "df_air_filt = df.drop_duplicates()\n",
    "\n",
    "# Filtrar filas con valores faltantes en columnas específicas\n",
    "\n",
    "# Volcar los resultados en un archivo CSV\n",
    "df_air_filt.to_csv('archivo_sin_duplicados.csv', index=False)\n"
   ]
  },
  {
   "cell_type": "code",
   "execution_count": 1184,
   "metadata": {},
   "outputs": [
    {
     "data": {
      "text/html": [
       "<div><strong>Dask DataFrame Structure:</strong></div>\n",
       "<div>\n",
       "<style scoped>\n",
       "    .dataframe tbody tr th:only-of-type {\n",
       "        vertical-align: middle;\n",
       "    }\n",
       "\n",
       "    .dataframe tbody tr th {\n",
       "        vertical-align: top;\n",
       "    }\n",
       "\n",
       "    .dataframe thead th {\n",
       "        text-align: right;\n",
       "    }\n",
       "</style>\n",
       "<table border=\"1\" class=\"dataframe\">\n",
       "  <thead>\n",
       "    <tr style=\"text-align: right;\">\n",
       "      <th></th>\n",
       "      <th>Activity Period</th>\n",
       "      <th>Operating Airline</th>\n",
       "      <th>Operating Airline IATA Code</th>\n",
       "      <th>Published Airline</th>\n",
       "      <th>Published Airline IATA Code</th>\n",
       "      <th>GEO Summary</th>\n",
       "      <th>GEO Region</th>\n",
       "      <th>Activity Type Code</th>\n",
       "      <th>Price Category Code</th>\n",
       "      <th>Terminal</th>\n",
       "      <th>Boarding Area</th>\n",
       "      <th>Passenger Count</th>\n",
       "      <th>Adjusted Activity Type Code</th>\n",
       "      <th>Adjusted Passenger Count</th>\n",
       "      <th>Year</th>\n",
       "      <th>Month</th>\n",
       "    </tr>\n",
       "    <tr>\n",
       "      <th>npartitions=1</th>\n",
       "      <th></th>\n",
       "      <th></th>\n",
       "      <th></th>\n",
       "      <th></th>\n",
       "      <th></th>\n",
       "      <th></th>\n",
       "      <th></th>\n",
       "      <th></th>\n",
       "      <th></th>\n",
       "      <th></th>\n",
       "      <th></th>\n",
       "      <th></th>\n",
       "      <th></th>\n",
       "      <th></th>\n",
       "      <th></th>\n",
       "      <th></th>\n",
       "    </tr>\n",
       "  </thead>\n",
       "  <tbody>\n",
       "    <tr>\n",
       "      <th></th>\n",
       "      <td>int64</td>\n",
       "      <td>object</td>\n",
       "      <td>object</td>\n",
       "      <td>object</td>\n",
       "      <td>object</td>\n",
       "      <td>object</td>\n",
       "      <td>object</td>\n",
       "      <td>object</td>\n",
       "      <td>object</td>\n",
       "      <td>object</td>\n",
       "      <td>object</td>\n",
       "      <td>int64</td>\n",
       "      <td>object</td>\n",
       "      <td>int64</td>\n",
       "      <td>int64</td>\n",
       "      <td>object</td>\n",
       "    </tr>\n",
       "    <tr>\n",
       "      <th></th>\n",
       "      <td>...</td>\n",
       "      <td>...</td>\n",
       "      <td>...</td>\n",
       "      <td>...</td>\n",
       "      <td>...</td>\n",
       "      <td>...</td>\n",
       "      <td>...</td>\n",
       "      <td>...</td>\n",
       "      <td>...</td>\n",
       "      <td>...</td>\n",
       "      <td>...</td>\n",
       "      <td>...</td>\n",
       "      <td>...</td>\n",
       "      <td>...</td>\n",
       "      <td>...</td>\n",
       "      <td>...</td>\n",
       "    </tr>\n",
       "  </tbody>\n",
       "</table>\n",
       "</div>\n",
       "<div>Dask Name: drop-duplicates-agg, 3 tasks</div>"
      ],
      "text/plain": [
       "Dask DataFrame Structure:\n",
       "              Activity Period Operating Airline Operating Airline IATA Code Published Airline Published Airline IATA Code GEO Summary GEO Region Activity Type Code Price Category Code Terminal Boarding Area Passenger Count Adjusted Activity Type Code Adjusted Passenger Count   Year   Month\n",
       "npartitions=1                                                                                                                                                                                                                                                                                     \n",
       "                        int64            object                      object            object                      object      object     object             object              object   object        object           int64                      object                    int64  int64  object\n",
       "                          ...               ...                         ...               ...                         ...         ...        ...                ...                 ...      ...           ...             ...                         ...                      ...    ...     ...\n",
       "Dask Name: drop-duplicates-agg, 3 tasks"
      ]
     },
     "execution_count": 1184,
     "metadata": {},
     "output_type": "execute_result"
    }
   ],
   "source": [
    "df_air_filt"
   ]
  },
  {
   "cell_type": "code",
   "execution_count": 1185,
   "metadata": {},
   "outputs": [
    {
     "data": {
      "text/plain": [
       "Dask Series Structure:\n",
       "npartitions=1\n",
       "Activity Period    int64\n",
       "Year                 ...\n",
       "dtype: int64\n",
       "Dask Name: dataframe-sum-agg, 6 tasks"
      ]
     },
     "execution_count": 1185,
     "metadata": {},
     "output_type": "execute_result"
    }
   ],
   "source": [
    "# Conteo de valores perdidos/faltantes  \n",
    "df_air_filt.isna().sum()"
   ]
  },
  {
   "cell_type": "code",
   "execution_count": 1186,
   "metadata": {},
   "outputs": [
    {
     "name": "stdout",
     "output_type": "stream",
     "text": [
      "<class 'dask.dataframe.core.DataFrame'>\n",
      "Columns: 16 entries, Activity Period to Month\n",
      "dtypes: object(12), int64(4)"
     ]
    }
   ],
   "source": [
    "df_air_filt.info()"
   ]
  },
  {
   "cell_type": "code",
   "execution_count": 1187,
   "metadata": {},
   "outputs": [
    {
     "data": {
      "text/plain": [
       "Activity Period                 int64\n",
       "Operating Airline              object\n",
       "Operating Airline IATA Code    object\n",
       "Published Airline              object\n",
       "Published Airline IATA Code    object\n",
       "GEO Summary                    object\n",
       "GEO Region                     object\n",
       "Activity Type Code             object\n",
       "Price Category Code            object\n",
       "Terminal                       object\n",
       "Boarding Area                  object\n",
       "Passenger Count                 int64\n",
       "Adjusted Activity Type Code    object\n",
       "Adjusted Passenger Count        int64\n",
       "Year                            int64\n",
       "Month                          object\n",
       "dtype: object"
      ]
     },
     "execution_count": 1187,
     "metadata": {},
     "output_type": "execute_result"
    }
   ],
   "source": [
    "# Consultamos el tipo de datos\n",
    "df_air_filt.dtypes"
   ]
  },
  {
   "cell_type": "code",
   "execution_count": 1188,
   "metadata": {},
   "outputs": [
    {
     "data": {
      "text/plain": [
       "Operating Airline              object\n",
       "Operating Airline IATA Code    object\n",
       "Published Airline              object\n",
       "Published Airline IATA Code    object\n",
       "GEO Summary                    object\n",
       "GEO Region                     object\n",
       "Activity Type Code             object\n",
       "Price Category Code            object\n",
       "Terminal                       object\n",
       "Boarding Area                  object\n",
       "Adjusted Activity Type Code    object\n",
       "Month                          object\n",
       "dtype: object"
      ]
     },
     "execution_count": 1188,
     "metadata": {},
     "output_type": "execute_result"
    }
   ],
   "source": [
    "df_air_filt.dtypes[df_air_filt.dtypes=='object']"
   ]
  },
  {
   "cell_type": "code",
   "execution_count": 1189,
   "metadata": {},
   "outputs": [],
   "source": [
    "columnas_drop= [\n",
    "                \"GEO Summary\",\n",
    "                \"Price Category Code\",\n",
    "                \"Adjusted Activity Type Code\",\n",
    "                \"Operating Airline IATA Code\",\n",
    "                \"Operating Airline IATA Code\",\n",
    "                \"Published Airline IATA Code\",\n",
    "                \"Published Airline\"\n",
    "                ]"
   ]
  },
  {
   "cell_type": "code",
   "execution_count": 1190,
   "metadata": {},
   "outputs": [],
   "source": [
    "df_air_filt= df_air_filt.drop(columns=columnas_drop)"
   ]
  },
  {
   "cell_type": "code",
   "execution_count": 1191,
   "metadata": {},
   "outputs": [
    {
     "name": "stdout",
     "output_type": "stream",
     "text": [
      "0       Terminal 1\n",
      "1    International\n",
      "2       Terminal 3\n",
      "3            Other\n",
      "4       Terminal 2\n",
      "Name: Terminal, dtype: object\n"
     ]
    }
   ],
   "source": [
    "\n",
    "valores_unicos = df_air_filt['Terminal'].unique().compute()\n",
    "\n",
    "\n",
    "print(valores_unicos)"
   ]
  },
  {
   "cell_type": "code",
   "execution_count": 1192,
   "metadata": {},
   "outputs": [
    {
     "name": "stdout",
     "output_type": "stream",
     "text": [
      "0    1.0\n",
      "1    1.0\n",
      "2    1.0\n",
      "3    1.0\n",
      "4    1.0\n",
      "Name: Terminal, dtype: float64\n"
     ]
    }
   ],
   "source": [
    "\n",
    "Terminal_numeros = {\n",
    "    'Terminal 1': 1,\n",
    "    'Terminal 2': 2,\n",
    "    'Terminal 3': 3,\n",
    "    'Internacional':4\n",
    "}\n",
    "\n",
    "\n",
    "df_air_filt[\"Terminal\"]=df_air_filt[\"Terminal\"].map(Terminal_numeros)\n",
    "print(df_air_filt[\"Terminal\"].head())\n"
   ]
  },
  {
   "cell_type": "code",
   "execution_count": 1193,
   "metadata": {},
   "outputs": [
    {
     "data": {
      "text/plain": [
       "Operating Airline     object\n",
       "GEO Region            object\n",
       "Activity Type Code    object\n",
       "Boarding Area         object\n",
       "Month                 object\n",
       "dtype: object"
      ]
     },
     "execution_count": 1193,
     "metadata": {},
     "output_type": "execute_result"
    }
   ],
   "source": [
    "df_air_filt.dtypes[df_air_filt.dtypes=='object']"
   ]
  },
  {
   "cell_type": "code",
   "execution_count": 1194,
   "metadata": {},
   "outputs": [
    {
     "name": "stdout",
     "output_type": "stream",
     "text": [
      "15002    3\n",
      "15003    3\n",
      "15004    3\n",
      "15005    3\n",
      "15006    3\n",
      "Name: Month, dtype: int64\n"
     ]
    }
   ],
   "source": [
    "\n",
    "meses_numeros = {\n",
    "    'January': 1,\n",
    "    'February': 2,\n",
    "    'March': 3,\n",
    "    'April': 4,\n",
    "    'May': 5,\n",
    "    'June': 6,\n",
    "    'July': 7,\n",
    "    'August': 8,\n",
    "    'September': 9,\n",
    "    'October': 10,\n",
    "    'November': 11,\n",
    "    'December': 12\n",
    "}\n",
    "df_air_filt[\"Month\"]=df_air_filt[\"Month\"].map(meses_numeros)\n",
    "print(df_air_filt[\"Month\"].tail())"
   ]
  },
  {
   "cell_type": "code",
   "execution_count": 1195,
   "metadata": {},
   "outputs": [
    {
     "name": "stdout",
     "output_type": "stream",
     "text": [
      "0        B\n",
      "1        G\n",
      "2        A\n",
      "3        E\n",
      "4        C\n",
      "5        F\n",
      "6    Other\n",
      "7        D\n",
      "Name: Boarding Area, dtype: object\n"
     ]
    }
   ],
   "source": [
    "valores_unicos = df_air_filt['Boarding Area'].unique().compute()\n",
    "\n",
    "\n",
    "print(valores_unicos)"
   ]
  },
  {
   "cell_type": "code",
   "execution_count": 1196,
   "metadata": {},
   "outputs": [
    {
     "data": {
      "text/plain": [
       "0    2.0\n",
       "1    2.0\n",
       "2    2.0\n",
       "3    2.0\n",
       "4    2.0\n",
       "Name: Boarding Area, dtype: float64"
      ]
     },
     "execution_count": 1196,
     "metadata": {},
     "output_type": "execute_result"
    }
   ],
   "source": [
    "\n",
    "boarding_area = {\n",
    "    'A': 1,\n",
    "    'B': 2,\n",
    "    'C': 3,\n",
    "    'D': 4,\n",
    "    'E': 5,\n",
    "    'F':6,\n",
    "    'G':7\n",
    "    \n",
    "    }\n",
    "df_air_filt[\"Boarding Area\"]=df_air_filt[\"Boarding Area\"].map(boarding_area)\n",
    "df_air_filt[\"Boarding Area\"].head()"
   ]
  },
  {
   "cell_type": "code",
   "execution_count": 1197,
   "metadata": {},
   "outputs": [
    {
     "name": "stdout",
     "output_type": "stream",
     "text": [
      "0                     US\n",
      "1                 Canada\n",
      "2                   Asia\n",
      "3                 Europe\n",
      "4    Australia / Oceania\n",
      "5                 Mexico\n",
      "6        Central America\n",
      "7            Middle East\n",
      "8          South America\n",
      "Name: GEO Region, dtype: object\n"
     ]
    }
   ],
   "source": [
    "valores_unico = df_air_filt['GEO Region'].unique().compute()\n",
    "\n",
    "\n",
    "print(valores_unico)"
   ]
  },
  {
   "cell_type": "code",
   "execution_count": 1198,
   "metadata": {},
   "outputs": [
    {
     "name": "stdout",
     "output_type": "stream",
     "text": [
      "0    1.0\n",
      "1    1.0\n",
      "2    1.0\n",
      "3    2.0\n",
      "4    2.0\n",
      "Name: GEO Region, dtype: float64\n"
     ]
    }
   ],
   "source": [
    "valores= {\n",
    "    'US':1,\n",
    "    'Canada':2,\n",
    "    'Asia': 3,\n",
    "    'Australia / Oceania': 4,\n",
    "    'Mexico': 5,\n",
    "    'Central America':6,\n",
    "    'Middle East':7,\n",
    "    'South America':8\n",
    "    }\n",
    "df_air_filt[\"GEO Region\"]=df_air_filt[\"GEO Region\"].map(valores)\n",
    "print(df_air_filt[\"GEO Region\"].head())"
   ]
  },
  {
   "cell_type": "code",
   "execution_count": 1199,
   "metadata": {},
   "outputs": [
    {
     "data": {
      "text/plain": [
       "0    ATA Airlines\n",
       "1    ATA Airlines\n",
       "2    ATA Airlines\n",
       "3     Air Canada \n",
       "4     Air Canada \n",
       "Name: Operating Airline, dtype: object"
      ]
     },
     "execution_count": 1199,
     "metadata": {},
     "output_type": "execute_result"
    }
   ],
   "source": [
    "df_air_filt[\"Operating Airline\"].head()"
   ]
  },
  {
   "cell_type": "code",
   "execution_count": 1200,
   "metadata": {},
   "outputs": [
    {
     "name": "stdout",
     "output_type": "stream",
     "text": [
      "0            ATA Airlines\n",
      "1             Air Canada \n",
      "2               Air China\n",
      "3              Air France\n",
      "4         Air New Zealand\n",
      "             ...         \n",
      "72         Etihad Airways\n",
      "73         China Southern\n",
      "74       Turkish Airlines\n",
      "75    COPA Airlines, Inc.\n",
      "76      Air India Limited\n",
      "Name: Operating Airline, Length: 77, dtype: object\n"
     ]
    }
   ],
   "source": [
    "valores_unicos = df_air_filt['Operating Airline'].unique().compute()\n",
    "\n",
    "\n",
    "print(valores_unicos)"
   ]
  },
  {
   "cell_type": "code",
   "execution_count": 1201,
   "metadata": {},
   "outputs": [
    {
     "ename": "TypeError",
     "evalue": "Trying to convert dd.Scalar<monoton..., dtype=bool> to a boolean value. Because Dask objects are lazily evaluated, they cannot be converted to a boolean value or used in boolean conditions like if statements. Try calling .compute() to force computation prior to converting to a boolean value or using in a conditional statement.",
     "output_type": "error",
     "traceback": [
      "\u001b[1;31m---------------------------------------------------------------------------\u001b[0m",
      "\u001b[1;31mTypeError\u001b[0m                                 Traceback (most recent call last)",
      "Cell \u001b[1;32mIn[1201], line 5\u001b[0m\n\u001b[0;32m      2\u001b[0m \u001b[39mimport\u001b[39;00m \u001b[39mdask\u001b[39;00m\u001b[39m.\u001b[39;00m\u001b[39mdataframe\u001b[39;00m \u001b[39mas\u001b[39;00m \u001b[39mdd\u001b[39;00m\n\u001b[0;32m      4\u001b[0m \u001b[39m# Crear un DataFrame Dask a partir de la columna de aerolíneas\u001b[39;00m\n\u001b[1;32m----> 5\u001b[0m df_air_filt_dask \u001b[39m=\u001b[39m dd\u001b[39m.\u001b[39;49mfrom_pandas(df_air_filt[\u001b[39m'\u001b[39;49m\u001b[39mOperating Airline\u001b[39;49m\u001b[39m'\u001b[39;49m], npartitions\u001b[39m=\u001b[39;49m\u001b[39m1\u001b[39;49m)\n\u001b[0;32m      7\u001b[0m \u001b[39m# Inicializar el codificador de etiquetas\u001b[39;00m\n\u001b[0;32m      8\u001b[0m label_encoder \u001b[39m=\u001b[39m LabelEncoder()\n",
      "File \u001b[1;32mc:\\Users\\Angel Martínez\\anaconda3\\lib\\site-packages\\dask\\dataframe\\io\\io.py:257\u001b[0m, in \u001b[0;36mfrom_pandas\u001b[1;34m(data, npartitions, chunksize, sort, name)\u001b[0m\n\u001b[0;32m    251\u001b[0m     \u001b[39mraise\u001b[39;00m \u001b[39mNotImplementedError\u001b[39;00m(\n\u001b[0;32m    252\u001b[0m         \u001b[39m\"\u001b[39m\u001b[39mIndex in passed data is non-numeric and contains nulls, which Dask does not entirely support.\u001b[39m\u001b[39m\\n\u001b[39;00m\u001b[39m\"\u001b[39m\n\u001b[0;32m    253\u001b[0m         \u001b[39m\"\u001b[39m\u001b[39mConsider passing `data.loc[~data.isna()]` instead.\u001b[39m\u001b[39m\"\u001b[39m\n\u001b[0;32m    254\u001b[0m     )\n\u001b[0;32m    256\u001b[0m \u001b[39mif\u001b[39;00m sort:\n\u001b[1;32m--> 257\u001b[0m     \u001b[39mif\u001b[39;00m \u001b[39mnot\u001b[39;00m data\u001b[39m.\u001b[39mindex\u001b[39m.\u001b[39mis_monotonic_increasing:\n\u001b[0;32m    258\u001b[0m         data \u001b[39m=\u001b[39m data\u001b[39m.\u001b[39msort_index(ascending\u001b[39m=\u001b[39m\u001b[39mTrue\u001b[39;00m)\n\u001b[0;32m    259\u001b[0m     divisions, locations \u001b[39m=\u001b[39m sorted_division_locations(\n\u001b[0;32m    260\u001b[0m         data\u001b[39m.\u001b[39mindex, chunksize\u001b[39m=\u001b[39mchunksize\n\u001b[0;32m    261\u001b[0m     )\n",
      "File \u001b[1;32mc:\\Users\\Angel Martínez\\anaconda3\\lib\\site-packages\\dask\\dataframe\\core.py:233\u001b[0m, in \u001b[0;36mScalar.__bool__\u001b[1;34m(self)\u001b[0m\n\u001b[0;32m    232\u001b[0m \u001b[39mdef\u001b[39;00m \u001b[39m__bool__\u001b[39m(\u001b[39mself\u001b[39m):\n\u001b[1;32m--> 233\u001b[0m     \u001b[39mraise\u001b[39;00m \u001b[39mTypeError\u001b[39;00m(\n\u001b[0;32m    234\u001b[0m         \u001b[39mf\u001b[39m\u001b[39m\"\u001b[39m\u001b[39mTrying to convert \u001b[39m\u001b[39m{\u001b[39;00m\u001b[39mself\u001b[39m\u001b[39m}\u001b[39;00m\u001b[39m to a boolean value. Because Dask objects are \u001b[39m\u001b[39m\"\u001b[39m\n\u001b[0;32m    235\u001b[0m         \u001b[39m\"\u001b[39m\u001b[39mlazily evaluated, they cannot be converted to a boolean value or used \u001b[39m\u001b[39m\"\u001b[39m\n\u001b[0;32m    236\u001b[0m         \u001b[39m\"\u001b[39m\u001b[39min boolean conditions like if statements. Try calling .compute() to \u001b[39m\u001b[39m\"\u001b[39m\n\u001b[0;32m    237\u001b[0m         \u001b[39m\"\u001b[39m\u001b[39mforce computation prior to converting to a boolean value or using in \u001b[39m\u001b[39m\"\u001b[39m\n\u001b[0;32m    238\u001b[0m         \u001b[39m\"\u001b[39m\u001b[39ma conditional statement.\u001b[39m\u001b[39m\"\u001b[39m\n\u001b[0;32m    239\u001b[0m     )\n",
      "\u001b[1;31mTypeError\u001b[0m: Trying to convert dd.Scalar<monoton..., dtype=bool> to a boolean value. Because Dask objects are lazily evaluated, they cannot be converted to a boolean value or used in boolean conditions like if statements. Try calling .compute() to force computation prior to converting to a boolean value or using in a conditional statement."
     ]
    }
   ],
   "source": [
    "\n",
    "from sklearn.preprocessing import LabelEncoder\n",
    "import dask.dataframe as dd\n",
    "\n",
    "# Crear un DataFrame Dask a partir de la columna de aerolíneas\n",
    "df_air_filt_dask = dd.from_pandas(df_air_filt['Operating Airline'], npartitions=1)\n",
    "\n",
    "# Inicializar el codificador de etiquetas\n",
    "label_encoder = LabelEncoder()\n",
    "\n",
    "# Ajustar el codificador a los valores únicos en la columna de aerolíneas\n",
    "label_encoder.fit(df_air_filt_dask)\n",
    "\n",
    "# Aplicar la codificación de etiquetas a la columna de aerolíneas y crear una nueva columna numérica\n",
    "df_air_filt['AerolineasNumericas'] = label_encoder.transform(df_air_filt_dask)\n",
    "\n",
    "# Calcular los resultados\n",
    "resultados = df_air_filt.compute()\n"
   ]
  },
  {
   "cell_type": "code",
   "execution_count": null,
   "metadata": {},
   "outputs": [],
   "source": []
  },
  {
   "cell_type": "code",
   "execution_count": null,
   "metadata": {},
   "outputs": [
    {
     "name": "stdout",
     "output_type": "stream",
     "text": [
      "Dask Series Structure:\n",
      "npartitions=1\n",
      "Activity Period    int64\n",
      "Year                 ...\n",
      "dtype: int64\n",
      "Dask Name: dataframe-sum-agg, 19 tasks\n",
      "Activity Period                0\n",
      "Operating Airline              0\n",
      "GEO Region                  2089\n",
      "Activity Type Code             0\n",
      "Terminal                    9224\n",
      "Boarding Area                 27\n",
      "Passenger Count                0\n",
      "Adjusted Passenger Count       0\n",
      "Year                           0\n",
      "Month                          0\n",
      "dtype: int64\n"
     ]
    }
   ],
   "source": [
    "suma_nulos = df_air_filt.isnull().sum()\n",
    "print(suma_nulos)\n",
    "suma_nulos_resultado = suma_nulos.compute()\n",
    "print(suma_nulos_resultado)"
   ]
  },
  {
   "cell_type": "code",
   "execution_count": 1202,
   "metadata": {},
   "outputs": [
    {
     "data": {
      "text/html": [
       "<div><strong>Dask DataFrame Structure:</strong></div>\n",
       "<div>\n",
       "<style scoped>\n",
       "    .dataframe tbody tr th:only-of-type {\n",
       "        vertical-align: middle;\n",
       "    }\n",
       "\n",
       "    .dataframe tbody tr th {\n",
       "        vertical-align: top;\n",
       "    }\n",
       "\n",
       "    .dataframe thead th {\n",
       "        text-align: right;\n",
       "    }\n",
       "</style>\n",
       "<table border=\"1\" class=\"dataframe\">\n",
       "  <thead>\n",
       "    <tr style=\"text-align: right;\">\n",
       "      <th></th>\n",
       "      <th>Activity Period</th>\n",
       "      <th>Operating Airline</th>\n",
       "      <th>GEO Region</th>\n",
       "      <th>Activity Type Code</th>\n",
       "      <th>Terminal</th>\n",
       "      <th>Boarding Area</th>\n",
       "      <th>Passenger Count</th>\n",
       "      <th>Adjusted Passenger Count</th>\n",
       "      <th>Year</th>\n",
       "      <th>Month</th>\n",
       "    </tr>\n",
       "    <tr>\n",
       "      <th>npartitions=1</th>\n",
       "      <th></th>\n",
       "      <th></th>\n",
       "      <th></th>\n",
       "      <th></th>\n",
       "      <th></th>\n",
       "      <th></th>\n",
       "      <th></th>\n",
       "      <th></th>\n",
       "      <th></th>\n",
       "      <th></th>\n",
       "    </tr>\n",
       "  </thead>\n",
       "  <tbody>\n",
       "    <tr>\n",
       "      <th></th>\n",
       "      <td>int64</td>\n",
       "      <td>object</td>\n",
       "      <td>float64</td>\n",
       "      <td>object</td>\n",
       "      <td>float64</td>\n",
       "      <td>float64</td>\n",
       "      <td>int64</td>\n",
       "      <td>int64</td>\n",
       "      <td>int64</td>\n",
       "      <td>float64</td>\n",
       "    </tr>\n",
       "    <tr>\n",
       "      <th></th>\n",
       "      <td>...</td>\n",
       "      <td>...</td>\n",
       "      <td>...</td>\n",
       "      <td>...</td>\n",
       "      <td>...</td>\n",
       "      <td>...</td>\n",
       "      <td>...</td>\n",
       "      <td>...</td>\n",
       "      <td>...</td>\n",
       "      <td>...</td>\n",
       "    </tr>\n",
       "  </tbody>\n",
       "</table>\n",
       "</div>\n",
       "<div>Dask Name: getitem, 22 tasks</div>"
      ],
      "text/plain": [
       "Dask DataFrame Structure:\n",
       "              Activity Period Operating Airline GEO Region Activity Type Code Terminal Boarding Area Passenger Count Adjusted Passenger Count   Year    Month\n",
       "npartitions=1                                                                                                                                                \n",
       "                        int64            object    float64             object  float64       float64           int64                    int64  int64  float64\n",
       "                          ...               ...        ...                ...      ...           ...             ...                      ...    ...      ...\n",
       "Dask Name: getitem, 22 tasks"
      ]
     },
     "execution_count": 1202,
     "metadata": {},
     "output_type": "execute_result"
    }
   ],
   "source": [
    "df_air_filt2 = df_air_filt[df_air_filt['Terminal'].notnull() & df_air_filt['Boarding Area'].notnull()]\n",
    "df_air_filt2"
   ]
  },
  {
   "cell_type": "code",
   "execution_count": null,
   "metadata": {},
   "outputs": [
    {
     "data": {
      "text/plain": [
       "0    ATA Airlines\n",
       "1    ATA Airlines\n",
       "2    ATA Airlines\n",
       "3     Air Canada \n",
       "4     Air Canada \n",
       "Name: Operating Airline, dtype: object"
      ]
     },
     "execution_count": 1144,
     "metadata": {},
     "output_type": "execute_result"
    }
   ],
   "source": [
    "df_air_filt2[\"Operating Airline\"].head()"
   ]
  },
  {
   "attachments": {},
   "cell_type": "markdown",
   "metadata": {},
   "source": [
    "Media y desviacion tipica"
   ]
  },
  {
   "cell_type": "code",
   "execution_count": 1205,
   "metadata": {},
   "outputs": [
    {
     "name": "stdout",
     "output_type": "stream",
     "text": [
      "Media:\n",
      "Activity Period             201004.520837\n",
      "GEO Region                       1.268546\n",
      "Terminal                         1.823102\n",
      "Boarding Area                    3.709666\n",
      "Passenger Count              55944.645686\n",
      "Adjusted Passenger Count     56097.885181\n",
      "Year                          2009.979768\n",
      "Month                            6.544008\n",
      "dtype: float64\n",
      "\n",
      "Desviación estándar:\n",
      "Activity Period               308.340649\n",
      "GEO Region                      0.731742\n",
      "Terminal                        0.955426\n",
      "Boarding Area                   1.623586\n",
      "Passenger Count             85530.707364\n",
      "Adjusted Passenger Count    85445.345216\n",
      "Year                            3.087691\n",
      "Month                           3.473339\n",
      "dtype: float64\n"
     ]
    },
    {
     "name": "stderr",
     "output_type": "stream",
     "text": [
      "c:\\Users\\Angel Martínez\\anaconda3\\lib\\site-packages\\dask\\dataframe\\core.py:2125: FutureWarning: The default value of numeric_only in DataFrame.mean is deprecated. In a future version, it will default to False. In addition, specifying 'numeric_only=None' is deprecated. Select only valid columns or specify the value of numeric_only to silence this warning.\n",
      "  meta = self._meta_nonempty.mean(axis=axis, skipna=skipna)\n",
      "c:\\Users\\Angel Martínez\\anaconda3\\lib\\site-packages\\dask\\dataframe\\core.py:2316: FutureWarning: The default value of numeric_only in DataFrame.std is deprecated. In a future version, it will default to False. In addition, specifying 'numeric_only=None' is deprecated. Select only valid columns or specify the value of numeric_only to silence this warning.\n",
      "  meta = self._meta_nonempty.std(axis=axis, skipna=skipna)\n",
      "c:\\Users\\Angel Martínez\\anaconda3\\lib\\site-packages\\dask\\dataframe\\core.py:2169: FutureWarning: The default value of numeric_only in DataFrame.var is deprecated. In a future version, it will default to False. In addition, specifying 'numeric_only=None' is deprecated. Select only valid columns or specify the value of numeric_only to silence this warning.\n",
      "  meta = self._meta_nonempty.var(axis=axis, skipna=skipna)\n"
     ]
    }
   ],
   "source": [
    "media = df_air_filt2.mean().compute()\n",
    "desviacion_estandar = df_air_filt2.std().compute()\n",
    "print(\"Media:\")\n",
    "print(media)\n",
    "print(\"\\nDesviación estándar:\")\n",
    "print(desviacion_estandar)"
   ]
  },
  {
   "cell_type": "code",
   "execution_count": null,
   "metadata": {},
   "outputs": [
    {
     "name": "stdout",
     "output_type": "stream",
     "text": [
      "\n",
      "Elementos clave sin repeticiones de columna consigo misma:\n",
      "[('Activity Period', 'Activity Period'), ('Passenger Count', 'Passenger Count'), ('Adjusted Passenger Count', 'Adjusted Passenger Count'), ('Year', 'Year'), ('Passenger Count', 'Adjusted Passenger Count'), ('Adjusted Passenger Count', 'Passenger Count'), ('Activity Period', 'Year'), ('Year', 'Activity Period'), ('Activity Period', 'Passenger Count'), ('Passenger Count', 'Activity Period')]\n"
     ]
    }
   ],
   "source": [
    "\n",
    "\n",
    "# Calcular la correlación entre todas las columnas\n",
    "correlacion = df.corr().compute()\n",
    "\n",
    "\n",
    "# Obtener las 10 columnas más correlacionadas\n",
    "columnas_seleccionadas = correlacion.unstack().sort_values(ascending=False)[:10]\n",
    "elementos_clave = columnas_seleccionadas.index.tolist()\n",
    "\n",
    "# Imprimir los elementos clave\n",
    "print(\"\\nElementos clave sin repeticiones de columna consigo misma:\")\n",
    "print(elementos_clave)\n",
    "\n"
   ]
  }
 ],
 "metadata": {
  "kernelspec": {
   "display_name": "base",
   "language": "python",
   "name": "python3"
  },
  "language_info": {
   "codemirror_mode": {
    "name": "ipython",
    "version": 3
   },
   "file_extension": ".py",
   "mimetype": "text/x-python",
   "name": "python",
   "nbconvert_exporter": "python",
   "pygments_lexer": "ipython3",
   "version": "3.10.9"
  },
  "orig_nbformat": 4
 },
 "nbformat": 4,
 "nbformat_minor": 2
}
